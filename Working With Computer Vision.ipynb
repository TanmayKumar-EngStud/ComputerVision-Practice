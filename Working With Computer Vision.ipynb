{
 "cells": [
  {
   "cell_type": "markdown",
   "source": [
    "# Working on Computer Vision\n",
    "#### 1) Edge Detection"
   ],
   "metadata": {}
  },
  {
   "cell_type": "code",
   "execution_count": 2,
   "source": [
    "import cv2\n",
    "import numpy as np\n",
    "import os"
   ],
   "outputs": [],
   "metadata": {}
  },
  {
   "cell_type": "code",
   "execution_count": 3,
   "source": [
    "!pwd"
   ],
   "outputs": [
    {
     "output_type": "stream",
     "name": "stdout",
     "text": [
      "/home/tanmay/Documents/sirf Adrija ke liye/ComputerVision-Practice\n"
     ]
    }
   ],
   "metadata": {}
  },
  {
   "cell_type": "code",
   "execution_count": 9,
   "source": [
    "image = cv2.imread('testImage/bruhh.jpeg',0)"
   ],
   "outputs": [],
   "metadata": {}
  },
  {
   "cell_type": "code",
   "execution_count": 10,
   "source": [
    "print(image)"
   ],
   "outputs": [
    {
     "output_type": "stream",
     "name": "stdout",
     "text": [
      "[[255 255 255 ... 251 251 251]\n",
      " [255 255 255 ... 251 251 251]\n",
      " [255 255 255 ... 251 251 251]\n",
      " ...\n",
      " [ 48  51  57 ...   7   6   5]\n",
      " [ 56  60  66 ...  12  11  11]\n",
      " [ 62  65  70 ...  15  15  15]]\n"
     ]
    }
   ],
   "metadata": {}
  },
  {
   "cell_type": "code",
   "execution_count": 11,
   "source": [
    "cv2.imshow('image is',image)\n",
    "canny = cv2.Canny(image, 2,270)\n",
    "cv2.imshow('Canny',canny)\n",
    "\n",
    "cv2.waitKey(0)\n",
    "cv2.destroyAllWindows()"
   ],
   "outputs": [],
   "metadata": {}
  },
  {
   "cell_type": "markdown",
   "source": [
    "#### 2) Working with Web CAM"
   ],
   "metadata": {}
  },
  {
   "cell_type": "code",
   "execution_count": 1,
   "source": [
    "import cv2\n",
    "import numpy as np"
   ],
   "outputs": [],
   "metadata": {}
  },
  {
   "cell_type": "code",
   "execution_count": 14,
   "source": [
    "def sketch(image):\n",
    "    img_grey = cv2.cvtColor(image, cv2.COLOR_BGR2GRAY)\n",
    "    #img_blur = cv2.GaussianBlur(img_grey,(5,5),0)\n",
    "    canny_edge = cv2.Canny(img_grey, 20,40)\n",
    "    ret, mask = cv2.threshold(canny_edge, 60,255, cv2.THRESH_BINARY_INV)\n",
    "    return mask"
   ],
   "outputs": [],
   "metadata": {}
  },
  {
   "cell_type": "code",
   "execution_count": 15,
   "source": [
    "cap = cv2.VideoCapture(0)\n",
    "\n",
    "while True:\n",
    "    ret, frame = cap.read()\n",
    "    cv2.imshow(\"Live Sketch\", sketch(frame))\n",
    "    if cv2.waitKey(1) == 13:\n",
    "        break\n",
    "\n",
    "cap.release()\n",
    "cv2.destroyAllWindows()    "
   ],
   "outputs": [],
   "metadata": {}
  },
  {
   "cell_type": "markdown",
   "source": [
    "#### 3) Working with Contours"
   ],
   "metadata": {}
  },
  {
   "cell_type": "code",
   "execution_count": 1,
   "source": [
    "import numpy as np\n",
    "import cv2"
   ],
   "outputs": [],
   "metadata": {}
  },
  {
   "cell_type": "code",
   "execution_count": 2,
   "source": [
    "image = cv2.imread('/home/tanmay/Desktop/sana.jpeg')\n",
    "orig_img = image.copy()\n",
    "\n",
    "gray = cv2.cvtColor(image, cv2.COLOR_BGR2GRAY)\n",
    "ret, thresh = cv2.threshold(gray, 127, 255, cv2.THRESH_BINARY_INV)\n",
    "\n",
    "contours, hierarchy = cv2.findContours(thresh.copy(),cv2.RETR_LIST, cv2.CHAIN_APPROX_NONE)\n",
    "\n",
    "for c in contours:\n",
    "    x,y,w,h = cv2.boundingRect(c)\n",
    "    cv2.rectangle(orig_img,(x,y), (x+w, y+h), (255,0,0),2)\n",
    "    cv2.imshow(\"Bounding Rectangle\", orig_img)\n",
    "\n",
    "cv2.waitKey(1) ==13\n",
    "\n",
    "for c in contours:\n",
    "    accuracy = 0.01* cv2.arcLength(c,True)\n",
    "    approx = cv2.approxPolyDP(c,accuracy, True)\n",
    "    cv2.drawContours(image,[approx], 0,(0,255,0),2)\n",
    "    cv2.imshow('Approx Poly DP', image)\n",
    "    \n",
    "cv2.waitKey(0)\n",
    "cv2.destroyAllWindows()"
   ],
   "outputs": [],
   "metadata": {}
  },
  {
   "cell_type": "markdown",
   "source": [
    "#### 4) Working with contours on video"
   ],
   "metadata": {}
  },
  {
   "cell_type": "code",
   "execution_count": 18,
   "source": [
    "import cv2\n",
    "import numpy as np"
   ],
   "outputs": [],
   "metadata": {}
  },
  {
   "cell_type": "code",
   "execution_count": 19,
   "source": [
    "def imageContours(image):\n",
    "    org_img = image\n",
    "    gray = cv2.cvtColor(image, cv2.COLOR_BGR2GRAY)\n",
    "    ret, thresh = cv2.threshold(gray, 127,255, cv2.THRESH_BINARY_INV)\n",
    "    contours, hierarchy = cv2.findContours(thresh.copy(), cv2.RETR_LIST, cv2.CHAIN_APPROX_NONE)\n",
    "    for c in contours:\n",
    "        x,y,w,h = cv2.boundingRect(c)\n",
    "        cv2.rectangle(org_img,(x,y), (x+w, y+h), (255,0,0),2)\n",
    "    \n",
    "    for c in contours:\n",
    "        accuracy = 0.3* cv2.arcLength(c,True)\n",
    "        approx = cv2.approxPolyDP(c,accuracy,True)\n",
    "        mask =cv2.drawContours(image,[approx],0,(0,255,0),2)\n",
    "        return mask"
   ],
   "outputs": [],
   "metadata": {}
  },
  {
   "cell_type": "code",
   "execution_count": 20,
   "source": [
    "cap = cv2.VideoCapture(0)\n",
    "while True:\n",
    "    ret , frame = cap.read()\n",
    "    cv2.imshow(\"Live Contours\", imageContours(frame))\n",
    "    if cv2.waitKey(1)==13:\n",
    "        break\n",
    "\n",
    "cv2.destroyAllWindows()        "
   ],
   "outputs": [],
   "metadata": {}
  },
  {
   "cell_type": "markdown",
   "source": [
    "#### 5) Working with Convex hull"
   ],
   "metadata": {}
  },
  {
   "cell_type": "code",
   "execution_count": null,
   "source": [],
   "outputs": [],
   "metadata": {}
  }
 ],
 "metadata": {
  "kernelspec": {
   "name": "python3",
   "display_name": "Python 3.8.5 64-bit ('DeepLearning': conda)"
  },
  "language_info": {
   "codemirror_mode": {
    "name": "ipython",
    "version": 3
   },
   "file_extension": ".py",
   "mimetype": "text/x-python",
   "name": "python",
   "nbconvert_exporter": "python",
   "pygments_lexer": "ipython3",
   "version": "3.8.5"
  },
  "interpreter": {
   "hash": "ce5412b8715117908d8129964960c3be480f008a4994ece1be9c3b7cf4dabcdb"
  }
 },
 "nbformat": 4,
 "nbformat_minor": 4
}